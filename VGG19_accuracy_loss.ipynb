{
  "cells": [
    {
      "attachments": {},
      "cell_type": "markdown",
      "metadata": {
        "id": "5KyLTeW35eNE"
      },
      "source": [
        "##Installation\n"
      ]
    },
    {
      "cell_type": "code",
      "execution_count": null,
      "metadata": {
        "colab": {
          "base_uri": "https://localhost:8080/"
        },
        "id": "i-JRyJHy5k-q",
        "outputId": "6667b013-7325-4fcf-c0e5-0f9b29d2ef26"
      },
      "outputs": [
        {
          "name": "stdout",
          "output_type": "stream",
          "text": [
            "Looking in indexes: https://pypi.org/simple, https://us-python.pkg.dev/colab-wheels/public/simple/\n",
            "Requirement already satisfied: keras in /usr/local/lib/python3.10/dist-packages (2.12.0)\n",
            "Looking in indexes: https://pypi.org/simple, https://us-python.pkg.dev/colab-wheels/public/simple/\n",
            "Requirement already satisfied: tensorflow in /usr/local/lib/python3.10/dist-packages (2.12.0)\n",
            "Requirement already satisfied: absl-py>=1.0.0 in /usr/local/lib/python3.10/dist-packages (from tensorflow) (1.4.0)\n",
            "Requirement already satisfied: astunparse>=1.6.0 in /usr/local/lib/python3.10/dist-packages (from tensorflow) (1.6.3)\n",
            "Requirement already satisfied: flatbuffers>=2.0 in /usr/local/lib/python3.10/dist-packages (from tensorflow) (23.3.3)\n",
            "Requirement already satisfied: gast<=0.4.0,>=0.2.1 in /usr/local/lib/python3.10/dist-packages (from tensorflow) (0.4.0)\n",
            "Requirement already satisfied: google-pasta>=0.1.1 in /usr/local/lib/python3.10/dist-packages (from tensorflow) (0.2.0)\n",
            "Requirement already satisfied: grpcio<2.0,>=1.24.3 in /usr/local/lib/python3.10/dist-packages (from tensorflow) (1.54.0)\n",
            "Requirement already satisfied: h5py>=2.9.0 in /usr/local/lib/python3.10/dist-packages (from tensorflow) (3.8.0)\n",
            "Requirement already satisfied: jax>=0.3.15 in /usr/local/lib/python3.10/dist-packages (from tensorflow) (0.4.10)\n",
            "Requirement already satisfied: keras<2.13,>=2.12.0 in /usr/local/lib/python3.10/dist-packages (from tensorflow) (2.12.0)\n",
            "Requirement already satisfied: libclang>=13.0.0 in /usr/local/lib/python3.10/dist-packages (from tensorflow) (16.0.0)\n",
            "Requirement already satisfied: numpy<1.24,>=1.22 in /usr/local/lib/python3.10/dist-packages (from tensorflow) (1.22.4)\n",
            "Requirement already satisfied: opt-einsum>=2.3.2 in /usr/local/lib/python3.10/dist-packages (from tensorflow) (3.3.0)\n",
            "Requirement already satisfied: packaging in /usr/local/lib/python3.10/dist-packages (from tensorflow) (23.1)\n",
            "Requirement already satisfied: protobuf!=4.21.0,!=4.21.1,!=4.21.2,!=4.21.3,!=4.21.4,!=4.21.5,<5.0.0dev,>=3.20.3 in /usr/local/lib/python3.10/dist-packages (from tensorflow) (3.20.3)\n",
            "Requirement already satisfied: setuptools in /usr/local/lib/python3.10/dist-packages (from tensorflow) (67.7.2)\n",
            "Requirement already satisfied: six>=1.12.0 in /usr/local/lib/python3.10/dist-packages (from tensorflow) (1.16.0)\n",
            "Requirement already satisfied: tensorboard<2.13,>=2.12 in /usr/local/lib/python3.10/dist-packages (from tensorflow) (2.12.2)\n",
            "Requirement already satisfied: tensorflow-estimator<2.13,>=2.12.0 in /usr/local/lib/python3.10/dist-packages (from tensorflow) (2.12.0)\n",
            "Requirement already satisfied: termcolor>=1.1.0 in /usr/local/lib/python3.10/dist-packages (from tensorflow) (2.3.0)\n",
            "Requirement already satisfied: typing-extensions>=3.6.6 in /usr/local/lib/python3.10/dist-packages (from tensorflow) (4.5.0)\n",
            "Requirement already satisfied: wrapt<1.15,>=1.11.0 in /usr/local/lib/python3.10/dist-packages (from tensorflow) (1.14.1)\n",
            "Requirement already satisfied: tensorflow-io-gcs-filesystem>=0.23.1 in /usr/local/lib/python3.10/dist-packages (from tensorflow) (0.32.0)\n",
            "Requirement already satisfied: wheel<1.0,>=0.23.0 in /usr/local/lib/python3.10/dist-packages (from astunparse>=1.6.0->tensorflow) (0.40.0)\n",
            "Requirement already satisfied: ml-dtypes>=0.1.0 in /usr/local/lib/python3.10/dist-packages (from jax>=0.3.15->tensorflow) (0.1.0)\n",
            "Requirement already satisfied: scipy>=1.7 in /usr/local/lib/python3.10/dist-packages (from jax>=0.3.15->tensorflow) (1.10.1)\n",
            "Requirement already satisfied: google-auth<3,>=1.6.3 in /usr/local/lib/python3.10/dist-packages (from tensorboard<2.13,>=2.12->tensorflow) (2.17.3)\n",
            "Requirement already satisfied: google-auth-oauthlib<1.1,>=0.5 in /usr/local/lib/python3.10/dist-packages (from tensorboard<2.13,>=2.12->tensorflow) (1.0.0)\n",
            "Requirement already satisfied: markdown>=2.6.8 in /usr/local/lib/python3.10/dist-packages (from tensorboard<2.13,>=2.12->tensorflow) (3.4.3)\n",
            "Requirement already satisfied: requests<3,>=2.21.0 in /usr/local/lib/python3.10/dist-packages (from tensorboard<2.13,>=2.12->tensorflow) (2.27.1)\n",
            "Requirement already satisfied: tensorboard-data-server<0.8.0,>=0.7.0 in /usr/local/lib/python3.10/dist-packages (from tensorboard<2.13,>=2.12->tensorflow) (0.7.0)\n",
            "Requirement already satisfied: tensorboard-plugin-wit>=1.6.0 in /usr/local/lib/python3.10/dist-packages (from tensorboard<2.13,>=2.12->tensorflow) (1.8.1)\n",
            "Requirement already satisfied: werkzeug>=1.0.1 in /usr/local/lib/python3.10/dist-packages (from tensorboard<2.13,>=2.12->tensorflow) (2.3.0)\n",
            "Requirement already satisfied: cachetools<6.0,>=2.0.0 in /usr/local/lib/python3.10/dist-packages (from google-auth<3,>=1.6.3->tensorboard<2.13,>=2.12->tensorflow) (5.3.0)\n",
            "Requirement already satisfied: pyasn1-modules>=0.2.1 in /usr/local/lib/python3.10/dist-packages (from google-auth<3,>=1.6.3->tensorboard<2.13,>=2.12->tensorflow) (0.3.0)\n",
            "Requirement already satisfied: rsa<5,>=3.1.4 in /usr/local/lib/python3.10/dist-packages (from google-auth<3,>=1.6.3->tensorboard<2.13,>=2.12->tensorflow) (4.9)\n",
            "Requirement already satisfied: requests-oauthlib>=0.7.0 in /usr/local/lib/python3.10/dist-packages (from google-auth-oauthlib<1.1,>=0.5->tensorboard<2.13,>=2.12->tensorflow) (1.3.1)\n",
            "Requirement already satisfied: urllib3<1.27,>=1.21.1 in /usr/local/lib/python3.10/dist-packages (from requests<3,>=2.21.0->tensorboard<2.13,>=2.12->tensorflow) (1.26.15)\n",
            "Requirement already satisfied: certifi>=2017.4.17 in /usr/local/lib/python3.10/dist-packages (from requests<3,>=2.21.0->tensorboard<2.13,>=2.12->tensorflow) (2022.12.7)\n",
            "Requirement already satisfied: charset-normalizer~=2.0.0 in /usr/local/lib/python3.10/dist-packages (from requests<3,>=2.21.0->tensorboard<2.13,>=2.12->tensorflow) (2.0.12)\n",
            "Requirement already satisfied: idna<4,>=2.5 in /usr/local/lib/python3.10/dist-packages (from requests<3,>=2.21.0->tensorboard<2.13,>=2.12->tensorflow) (3.4)\n",
            "Requirement already satisfied: MarkupSafe>=2.1.1 in /usr/local/lib/python3.10/dist-packages (from werkzeug>=1.0.1->tensorboard<2.13,>=2.12->tensorflow) (2.1.2)\n",
            "Requirement already satisfied: pyasn1<0.6.0,>=0.4.6 in /usr/local/lib/python3.10/dist-packages (from pyasn1-modules>=0.2.1->google-auth<3,>=1.6.3->tensorboard<2.13,>=2.12->tensorflow) (0.5.0)\n",
            "Requirement already satisfied: oauthlib>=3.0.0 in /usr/local/lib/python3.10/dist-packages (from requests-oauthlib>=0.7.0->google-auth-oauthlib<1.1,>=0.5->tensorboard<2.13,>=2.12->tensorflow) (3.2.2)\n",
            "Looking in indexes: https://pypi.org/simple, https://us-python.pkg.dev/colab-wheels/public/simple/\n",
            "Collecting split-folders\n",
            "  Downloading split_folders-0.5.1-py3-none-any.whl (8.4 kB)\n",
            "Installing collected packages: split-folders\n",
            "Successfully installed split-folders-0.5.1\n"
          ]
        }
      ],
      "source": [
        "!pip install keras\n",
        "!pip install tensorflow\n",
        "!pip install split-folders\n"
      ]
    },
    {
      "attachments": {},
      "cell_type": "markdown",
      "metadata": {
        "id": "-iw8ue5P6FD7"
      },
      "source": [
        "##Import Libraries\n"
      ]
    },
    {
      "cell_type": "code",
      "execution_count": null,
      "metadata": {
        "id": "xFdLSYCE6Mhq"
      },
      "outputs": [],
      "source": [
        "import numpy as np\n",
        "import tensorflow as tf\n",
        "import tensorflow.keras.utils \n",
        "import numpy as np\n",
        "from PIL import Image\n",
        "import os\n",
        "\n",
        "import matplotlib.pyplot as plt\n",
        "import pandas as pd\n",
        "import keras\n",
        "import cv2\n",
        "import os\n",
        "import math\n",
        "import splitfolders\n",
        "import itertools\n",
        "\n",
        "from keras.models import Sequential\n",
        "from keras.models import load_model\n",
        "from keras.layers import Dense, Conv2D, MaxPool2D, Flatten\n",
        "from keras.preprocessing.image import ImageDataGenerator\n",
        "from tensorflow.keras.utils import load_img\n",
        "from tensorflow.keras.utils import img_to_array\n",
        "\n",
        "\n",
        "from keras.callbacks import ModelCheckpoint, EarlyStopping\n",
        "import matplotlib.pyplot as plt\n",
        "import seaborn as sns\n",
        "import keras\n",
        "from keras.models import Sequential\n",
        "from keras.layers import Dense, Conv2D , MaxPool2D , Flatten , Dropout , BatchNormalization\n",
        "#from keras.preprocessing.image import ImageDataGenerator, array_to_img, img_to_array,load_img\n",
        "from keras.preprocessing.image import ImageDataGenerator\n",
        "\n",
        "from tensorflow.keras.utils import img_to_array\n",
        "from sklearn.model_selection import train_test_split\n",
        "from sklearn.metrics import classification_report,confusion_matrix\n",
        "from keras.callbacks import ReduceLROnPlateau\n",
        "#import gradio\n",
        "import random\n",
        "from sklearn.model_selection import train_test_split\n",
        "from sklearn.metrics import accuracy_score,precision_score, recall_score, f1_score\n",
        "from sklearn.metrics import confusion_matrix\n",
        "from sklearn.linear_model import LogisticRegression\n"
      ]
    },
    {
      "attachments": {},
      "cell_type": "markdown",
      "metadata": {
        "id": "C9VtRNxz6X7j"
      },
      "source": [
        "##Upload/Connect Dataset\n"
      ]
    },
    {
      "cell_type": "code",
      "execution_count": null,
      "metadata": {
        "colab": {
          "base_uri": "https://localhost:8080/"
        },
        "id": "iENI99le6exK",
        "outputId": "d20ebb92-10d6-4da1-d0d4-4eef4a3f1f4d"
      },
      "outputs": [
        {
          "name": "stdout",
          "output_type": "stream",
          "text": [
            "Mounted at /content/drive\n"
          ]
        }
      ],
      "source": [
        "from google.colab import drive\n",
        "drive.mount('/content/drive')\n",
        "input_dataset=('/content/drive/MyDrive/3 kinds of Pneumonia(dataset)(new)')"
      ]
    },
    {
      "attachments": {},
      "cell_type": "markdown",
      "metadata": {
        "id": "wIeMkUTl6rgy"
      },
      "source": [
        "#Dataset Analysis"
      ]
    },
    {
      "cell_type": "code",
      "execution_count": null,
      "metadata": {
        "colab": {
          "base_uri": "https://localhost:8080/"
        },
        "id": "yD2mXsTV8aoz",
        "outputId": "d2202031-53df-41f3-c978-1278481be662"
      },
      "outputs": [
        {
          "data": {
            "text/plain": [
              "dict_items([('COVID-19', 2000), ('Normal', 2000), ('Pneumonia-Viral', 2000), ('Pneumonia-Bacterial', 2000)])"
            ]
          },
          "execution_count": 4,
          "metadata": {},
          "output_type": "execute_result"
        }
      ],
      "source": [
        "number_of_images = {}\n",
        "\n",
        "for dir in os.listdir(input_dataset):\n",
        "  number_of_images[dir] = len(os.listdir(os.path.join(input_dataset,dir)))\n",
        "\n",
        "number_of_images.items()\n"
      ]
    },
    {
      "attachments": {},
      "cell_type": "markdown",
      "metadata": {
        "id": "ngWSB3TsHEYF"
      },
      "source": [
        "##Dataset Bar Chart"
      ]
    },
    {
      "attachments": {},
      "cell_type": "markdown",
      "metadata": {
        "id": "MsaqFSbQI8TT"
      },
      "source": [
        "##Splitting Dataset into Train, Validation and test"
      ]
    },
    {
      "cell_type": "code",
      "execution_count": null,
      "metadata": {
        "colab": {
          "base_uri": "https://localhost:8080/"
        },
        "id": "AhBy4usiI7FE",
        "outputId": "4698f861-f290-42ff-9646-8b553308f945"
      },
      "outputs": [
        {
          "name": "stderr",
          "output_type": "stream",
          "text": [
            "Copying files: 8000 files [02:48, 47.49 files/s] \n"
          ]
        }
      ],
      "source": [
        "from splitfolders.split import group_by_prefix\n",
        "splitfolders.ratio(input_dataset,output=\"dataset\",seed=1337, ratio=(.7, .2, .1), group_prefix=None, move=False)"
      ]
    },
    {
      "cell_type": "code",
      "execution_count": null,
      "metadata": {
        "id": "5PgaorwRMIlM"
      },
      "outputs": [],
      "source": [
        "#%rm -rf '/content/drive/MyDrive/3 kinds of Pneumonia(dataset)'"
      ]
    },
    {
      "attachments": {},
      "cell_type": "markdown",
      "metadata": {
        "id": "RQOvQCPQ0TaS"
      },
      "source": [
        "\n",
        "\n",
        "#4.VGG19 Model"
      ]
    },
    {
      "attachments": {},
      "cell_type": "markdown",
      "metadata": {
        "id": "UOP4YOfmplHX"
      },
      "source": [
        "### Data Preprocessing for MobileNet"
      ]
    },
    {
      "cell_type": "code",
      "execution_count": null,
      "metadata": {
        "id": "ej120lrBpkPI"
      },
      "outputs": [],
      "source": [
        "from keras.utils.image_dataset import image_dataset_from_directory\n",
        "from keras.applications.vgg19 import preprocess_input as p4\n",
        "def preprocessing_train4(path):\n",
        "  image_data=ImageDataGenerator(preprocessing_function=p4,zoom_range=0.2,shear_range=0.2,horizontal_flip=True,vertical_flip=False)#data augmentation\n",
        "  image=image_data.flow_from_directory(directory=path,target_size=(224,224),batch_size=32,class_mode=\"categorical\")\n",
        "  \n",
        "  return image"
      ]
    },
    {
      "cell_type": "code",
      "execution_count": null,
      "metadata": {
        "colab": {
          "base_uri": "https://localhost:8080/"
        },
        "id": "Ur6-9D2FAyiI",
        "outputId": "3db8b299-72ba-405d-d401-aaee9c3c481d"
      },
      "outputs": [
        {
          "name": "stdout",
          "output_type": "stream",
          "text": [
            "Found 5600 images belonging to 4 classes.\n"
          ]
        }
      ],
      "source": [
        "path_tr4='/content/dataset/train'\n",
        "train_data=preprocessing_train4(path_tr4)#pre-processing training dataset"
      ]
    },
    {
      "cell_type": "code",
      "execution_count": null,
      "metadata": {
        "id": "28uhKSNUBJdP"
      },
      "outputs": [],
      "source": [
        "\n",
        "def preprocessing4(path):\n",
        "  image_data=ImageDataGenerator(preprocessing_function=p4)#data augmentation\n",
        "  image=image_data.flow_from_directory(directory=path,target_size=(224,224),batch_size=32,class_mode=\"categorical\")\n",
        "  \n",
        "  return image"
      ]
    },
    {
      "cell_type": "code",
      "execution_count": null,
      "metadata": {
        "colab": {
          "base_uri": "https://localhost:8080/"
        },
        "id": "MrVR8FwnBft_",
        "outputId": "677b5bec-d2ab-4beb-ee50-2fa7ff882edf"
      },
      "outputs": [
        {
          "name": "stdout",
          "output_type": "stream",
          "text": [
            "Found 1600 images belonging to 4 classes.\n"
          ]
        }
      ],
      "source": [
        "path_v4='/content/dataset/val'\n",
        "val_data=preprocessing4(path_v4)#pre-processing validation dataset"
      ]
    },
    {
      "cell_type": "code",
      "execution_count": null,
      "metadata": {
        "colab": {
          "base_uri": "https://localhost:8080/"
        },
        "id": "yrXF9n2wDyin",
        "outputId": "ab1cd60f-135c-4b19-da3a-1625ef5bc5e1"
      },
      "outputs": [
        {
          "name": "stdout",
          "output_type": "stream",
          "text": [
            "Found 800 images belonging to 4 classes.\n"
          ]
        }
      ],
      "source": [
        "path_te4='/content/dataset/test'\n",
        "test_data=preprocessing4(path_te4)#pre-processing testing dataset"
      ]
    },
    {
      "cell_type": "code",
      "execution_count": null,
      "metadata": {
        "colab": {
          "base_uri": "https://localhost:8080/"
        },
        "id": "3L2Az2pAtycm",
        "outputId": "d8d423a4-781f-4804-c000-362d9c5830b6"
      },
      "outputs": [
        {
          "name": "stdout",
          "output_type": "stream",
          "text": [
            "x_test shape: (800, 224, 224, 3)\n",
            "y_test shape: (800, 4)\n"
          ]
        }
      ],
      "source": [
        "x_test, y_test = [], []\n",
        "for i in range(len(test_data)):\n",
        "    batch_x, batch_y = test_data[i]\n",
        "    x_test.append(batch_x)\n",
        "    y_test.append(batch_y)\n",
        "\n",
        "# Concatenate the batches to obtain the final x_train and y_train arrays\n",
        "x_test = tf.concat(x_test, axis=0)\n",
        "y_test = tf.concat(y_test, axis=0)\n",
        "\n",
        "# Print the shape of the x_train and y_train arrays\n",
        "print('x_test shape:', x_test.shape)\n",
        "print('y_test shape:', y_test.shape)"
      ]
    },
    {
      "attachments": {},
      "cell_type": "markdown",
      "metadata": {
        "id": "MzItsri-SlAQ"
      },
      "source": [
        "##VGG19 Model Training "
      ]
    },
    {
      "cell_type": "code",
      "execution_count": null,
      "metadata": {
        "id": "RKPvmAnPSreA"
      },
      "outputs": [],
      "source": [
        "import numpy as np\n",
        "import matplotlib.pyplot as plt\n",
        "from keras.layers import Flatten, Dense\n",
        "from keras.models import Model,load_model\n",
        "from keras.applications.vgg19 import VGG19"
      ]
    },
    {
      "cell_type": "code",
      "execution_count": null,
      "metadata": {
        "colab": {
          "base_uri": "https://localhost:8080/"
        },
        "id": "cRQwhr3PU4Ko",
        "outputId": "c8042e5b-5b4c-455a-b1a3-fd2721c83761"
      },
      "outputs": [
        {
          "name": "stdout",
          "output_type": "stream",
          "text": [
            "Downloading data from https://storage.googleapis.com/tensorflow/keras-applications/vgg19/vgg19_weights_tf_dim_ordering_tf_kernels_notop.h5\n",
            "80134624/80134624 [==============================] - 2s 0us/step\n"
          ]
        }
      ],
      "source": [
        "mobile=VGG19(input_shape=(224,224,3),weights='imagenet',include_top=False)"
      ]
    },
    {
      "cell_type": "code",
      "execution_count": null,
      "metadata": {
        "id": "gq3wA953VYVw"
      },
      "outputs": [],
      "source": [
        "for layer in mobile.layers:\n",
        "  layer.trainable=False"
      ]
    },
    {
      "cell_type": "code",
      "execution_count": null,
      "metadata": {
        "id": "PhRlzv4kVmzq"
      },
      "outputs": [],
      "source": [
        "x=Flatten()(mobile.output)\n",
        "x = Dense(units=512, activation='relu')(x)\n",
        "x = Dense(units=256, activation='relu')(x)\n",
        "x = Dense(units=4, activation='softmax')(x)\n",
        "\n",
        "# prevent the weights from being updated during training\n",
        "#mobile.trainable = False\n",
        "\n",
        "mobile_model=Model(mobile.input,x)"
      ]
    },
    {
      "cell_type": "code",
      "execution_count": null,
      "metadata": {
        "colab": {
          "base_uri": "https://localhost:8080/"
        },
        "id": "HVd3uBA6Wk0o",
        "outputId": "241c55be-465e-45e6-f141-50b11007a7ec"
      },
      "outputs": [
        {
          "name": "stdout",
          "output_type": "stream",
          "text": [
            "Model: \"model\"\n",
            "_________________________________________________________________\n",
            " Layer (type)                Output Shape              Param #   \n",
            "=================================================================\n",
            " input_1 (InputLayer)        [(None, 224, 224, 3)]     0         \n",
            "                                                                 \n",
            " block1_conv1 (Conv2D)       (None, 224, 224, 64)      1792      \n",
            "                                                                 \n",
            " block1_conv2 (Conv2D)       (None, 224, 224, 64)      36928     \n",
            "                                                                 \n",
            " block1_pool (MaxPooling2D)  (None, 112, 112, 64)      0         \n",
            "                                                                 \n",
            " block2_conv1 (Conv2D)       (None, 112, 112, 128)     73856     \n",
            "                                                                 \n",
            " block2_conv2 (Conv2D)       (None, 112, 112, 128)     147584    \n",
            "                                                                 \n",
            " block2_pool (MaxPooling2D)  (None, 56, 56, 128)       0         \n",
            "                                                                 \n",
            " block3_conv1 (Conv2D)       (None, 56, 56, 256)       295168    \n",
            "                                                                 \n",
            " block3_conv2 (Conv2D)       (None, 56, 56, 256)       590080    \n",
            "                                                                 \n",
            " block3_conv3 (Conv2D)       (None, 56, 56, 256)       590080    \n",
            "                                                                 \n",
            " block3_conv4 (Conv2D)       (None, 56, 56, 256)       590080    \n",
            "                                                                 \n",
            " block3_pool (MaxPooling2D)  (None, 28, 28, 256)       0         \n",
            "                                                                 \n",
            " block4_conv1 (Conv2D)       (None, 28, 28, 512)       1180160   \n",
            "                                                                 \n",
            " block4_conv2 (Conv2D)       (None, 28, 28, 512)       2359808   \n",
            "                                                                 \n",
            " block4_conv3 (Conv2D)       (None, 28, 28, 512)       2359808   \n",
            "                                                                 \n",
            " block4_conv4 (Conv2D)       (None, 28, 28, 512)       2359808   \n",
            "                                                                 \n",
            " block4_pool (MaxPooling2D)  (None, 14, 14, 512)       0         \n",
            "                                                                 \n",
            " block5_conv1 (Conv2D)       (None, 14, 14, 512)       2359808   \n",
            "                                                                 \n",
            " block5_conv2 (Conv2D)       (None, 14, 14, 512)       2359808   \n",
            "                                                                 \n",
            " block5_conv3 (Conv2D)       (None, 14, 14, 512)       2359808   \n",
            "                                                                 \n",
            " block5_conv4 (Conv2D)       (None, 14, 14, 512)       2359808   \n",
            "                                                                 \n",
            " block5_pool (MaxPooling2D)  (None, 7, 7, 512)         0         \n",
            "                                                                 \n",
            " flatten (Flatten)           (None, 25088)             0         \n",
            "                                                                 \n",
            " dense (Dense)               (None, 512)               12845568  \n",
            "                                                                 \n",
            " dense_1 (Dense)             (None, 256)               131328    \n",
            "                                                                 \n",
            " dense_2 (Dense)             (None, 4)                 1028      \n",
            "                                                                 \n",
            "=================================================================\n",
            "Total params: 33,002,308\n",
            "Trainable params: 12,977,924\n",
            "Non-trainable params: 20,024,384\n",
            "_________________________________________________________________\n"
          ]
        }
      ],
      "source": [
        "mobile_model.summary()"
      ]
    },
    {
      "cell_type": "code",
      "execution_count": null,
      "metadata": {
        "id": "zdq0mw0abLd_"
      },
      "outputs": [],
      "source": [
        "mobile_model.compile(optimizer = \"adam\" , \n",
        "            loss = 'categorical_crossentropy' , \n",
        "            metrics = ['accuracy'])\n"
      ]
    },
    {
      "attachments": {},
      "cell_type": "markdown",
      "metadata": {
        "id": "zEMCueNADoYA"
      },
      "source": [
        "## VGG19 Model Early stop and model check point\n"
      ]
    },
    {
      "cell_type": "code",
      "execution_count": null,
      "metadata": {
        "id": "U4ZKJm0FEPz3"
      },
      "outputs": [],
      "source": [
        "#Early stopping\n",
        "\n",
        "es4=EarlyStopping(monitor=\"val_accuracy\", patience=10, verbose=1, mode=\"max\")\n",
        "\n",
        "#Model check point\n",
        "mc4= ModelCheckpoint(monitor=\"val_accuracy\", filepath=\"./Best_model4.h5\", verbose=1, save_best_only=True, mode=\"max\")\n",
        "reduce_lr4 = ReduceLROnPlateau(monitor='val_loss', factor=0.2, min_lr=0.000000001)\n",
        "\n",
        "cb4=[es4,mc4,reduce_lr4]\n",
        "\n",
        "\n"
      ]
    },
    {
      "cell_type": "code",
      "execution_count": null,
      "metadata": {
        "colab": {
          "base_uri": "https://localhost:8080/"
        },
        "id": "u2BjSVgSpiJ3",
        "outputId": "4ac09825-ed3b-433f-b4a5-4e15f2fc8bcd"
      },
      "outputs": [
        {
          "name": "stdout",
          "output_type": "stream",
          "text": [
            "Epoch 1/100\n",
            "175/175 [==============================] - ETA: 0s - loss: 4.8284 - accuracy: 0.7573\n",
            "Epoch 1: val_accuracy improved from -inf to 0.85562, saving model to ./Best_model4.h5\n",
            "175/175 [==============================] - 52s 218ms/step - loss: 4.8284 - accuracy: 0.7573 - val_loss: 0.7530 - val_accuracy: 0.8556 - lr: 0.0010\n",
            "Epoch 2/100\n",
            "175/175 [==============================] - ETA: 0s - loss: 0.5370 - accuracy: 0.8623\n",
            "Epoch 2: val_accuracy did not improve from 0.85562\n",
            "175/175 [==============================] - 41s 233ms/step - loss: 0.5370 - accuracy: 0.8623 - val_loss: 0.7665 - val_accuracy: 0.8406 - lr: 0.0010\n",
            "Epoch 3/100\n",
            "175/175 [==============================] - ETA: 0s - loss: 0.2639 - accuracy: 0.9154\n",
            "Epoch 3: val_accuracy did not improve from 0.85562\n",
            "175/175 [==============================] - 40s 227ms/step - loss: 0.2639 - accuracy: 0.9154 - val_loss: 0.8019 - val_accuracy: 0.8194 - lr: 0.0010\n",
            "Epoch 4/100\n",
            "175/175 [==============================] - ETA: 0s - loss: 0.1779 - accuracy: 0.9404\n",
            "Epoch 4: val_accuracy did not improve from 0.85562\n",
            "175/175 [==============================] - 41s 234ms/step - loss: 0.1779 - accuracy: 0.9404 - val_loss: 1.1123 - val_accuracy: 0.7925 - lr: 0.0010\n",
            "Epoch 5/100\n",
            "175/175 [==============================] - ETA: 0s - loss: 0.1226 - accuracy: 0.9613\n",
            "Epoch 5: val_accuracy did not improve from 0.85562\n",
            "175/175 [==============================] - 40s 227ms/step - loss: 0.1226 - accuracy: 0.9613 - val_loss: 0.6354 - val_accuracy: 0.8512 - lr: 0.0010\n",
            "Epoch 6/100\n",
            "175/175 [==============================] - ETA: 0s - loss: 0.0713 - accuracy: 0.9764\n",
            "Epoch 6: val_accuracy did not improve from 0.85562\n",
            "175/175 [==============================] - 41s 235ms/step - loss: 0.0713 - accuracy: 0.9764 - val_loss: 0.8797 - val_accuracy: 0.8519 - lr: 0.0010\n",
            "Epoch 7/100\n",
            "175/175 [==============================] - ETA: 0s - loss: 0.1305 - accuracy: 0.9602\n",
            "Epoch 7: val_accuracy did not improve from 0.85562\n",
            "175/175 [==============================] - 41s 236ms/step - loss: 0.1305 - accuracy: 0.9602 - val_loss: 1.3521 - val_accuracy: 0.8056 - lr: 0.0010\n",
            "Epoch 8/100\n",
            "175/175 [==============================] - ETA: 0s - loss: 0.1338 - accuracy: 0.9593\n",
            "Epoch 8: val_accuracy did not improve from 0.85562\n",
            "175/175 [==============================] - 41s 235ms/step - loss: 0.1338 - accuracy: 0.9593 - val_loss: 1.1692 - val_accuracy: 0.8219 - lr: 0.0010\n",
            "Epoch 9/100\n",
            "175/175 [==============================] - ETA: 0s - loss: 0.1319 - accuracy: 0.9625\n",
            "Epoch 9: val_accuracy did not improve from 0.85562\n",
            "175/175 [==============================] - 41s 236ms/step - loss: 0.1319 - accuracy: 0.9625 - val_loss: 1.2353 - val_accuracy: 0.8537 - lr: 0.0010\n",
            "Epoch 10/100\n",
            "175/175 [==============================] - ETA: 0s - loss: 0.1696 - accuracy: 0.9602\n",
            "Epoch 10: val_accuracy did not improve from 0.85562\n",
            "175/175 [==============================] - 39s 226ms/step - loss: 0.1696 - accuracy: 0.9602 - val_loss: 2.3158 - val_accuracy: 0.7987 - lr: 0.0010\n",
            "Epoch 11/100\n",
            "175/175 [==============================] - ETA: 0s - loss: 0.1645 - accuracy: 0.9561\n",
            "Epoch 11: val_accuracy did not improve from 0.85562\n",
            "175/175 [==============================] - 40s 227ms/step - loss: 0.1645 - accuracy: 0.9561 - val_loss: 0.9459 - val_accuracy: 0.8544 - lr: 0.0010\n",
            "Epoch 12/100\n",
            "175/175 [==============================] - ETA: 0s - loss: 0.0613 - accuracy: 0.9807\n",
            "Epoch 12: val_accuracy did not improve from 0.85562\n",
            "175/175 [==============================] - 40s 227ms/step - loss: 0.0613 - accuracy: 0.9807 - val_loss: 1.4099 - val_accuracy: 0.8550 - lr: 0.0010\n",
            "Epoch 13/100\n",
            "175/175 [==============================] - ETA: 0s - loss: 0.0459 - accuracy: 0.9868\n",
            "Epoch 13: val_accuracy improved from 0.85562 to 0.86500, saving model to ./Best_model4.h5\n",
            "175/175 [==============================] - 42s 239ms/step - loss: 0.0459 - accuracy: 0.9868 - val_loss: 1.0450 - val_accuracy: 0.8650 - lr: 0.0010\n",
            "Epoch 14/100\n",
            "175/175 [==============================] - ETA: 0s - loss: 0.0561 - accuracy: 0.9823\n",
            "Epoch 14: val_accuracy did not improve from 0.86500\n",
            "175/175 [==============================] - 40s 228ms/step - loss: 0.0561 - accuracy: 0.9823 - val_loss: 1.7892 - val_accuracy: 0.8425 - lr: 0.0010\n",
            "Epoch 15/100\n",
            "175/175 [==============================] - ETA: 0s - loss: 0.1780 - accuracy: 0.9598\n",
            "Epoch 15: val_accuracy did not improve from 0.86500\n",
            "175/175 [==============================] - 40s 226ms/step - loss: 0.1780 - accuracy: 0.9598 - val_loss: 1.6081 - val_accuracy: 0.8550 - lr: 0.0010\n",
            "Epoch 16/100\n",
            "175/175 [==============================] - ETA: 0s - loss: 0.0205 - accuracy: 0.9945\n",
            "Epoch 16: val_accuracy did not improve from 0.86500\n",
            "175/175 [==============================] - 39s 226ms/step - loss: 0.0205 - accuracy: 0.9945 - val_loss: 1.4114 - val_accuracy: 0.8644 - lr: 2.0000e-04\n",
            "Epoch 17/100\n",
            "175/175 [==============================] - ETA: 0s - loss: 0.0026 - accuracy: 0.9995\n",
            "Epoch 17: val_accuracy did not improve from 0.86500\n",
            "175/175 [==============================] - 40s 227ms/step - loss: 0.0026 - accuracy: 0.9995 - val_loss: 1.3860 - val_accuracy: 0.8612 - lr: 2.0000e-04\n",
            "Epoch 18/100\n",
            "175/175 [==============================] - ETA: 0s - loss: 5.1864e-04 - accuracy: 1.0000\n",
            "Epoch 18: val_accuracy did not improve from 0.86500\n",
            "175/175 [==============================] - 41s 236ms/step - loss: 5.1864e-04 - accuracy: 1.0000 - val_loss: 1.4001 - val_accuracy: 0.8612 - lr: 2.0000e-04\n",
            "Epoch 19/100\n",
            "175/175 [==============================] - ETA: 0s - loss: 3.8084e-04 - accuracy: 1.0000\n",
            "Epoch 19: val_accuracy did not improve from 0.86500\n",
            "175/175 [==============================] - 41s 235ms/step - loss: 3.8084e-04 - accuracy: 1.0000 - val_loss: 1.4086 - val_accuracy: 0.8625 - lr: 2.0000e-04\n",
            "Epoch 20/100\n",
            "175/175 [==============================] - ETA: 0s - loss: 3.1093e-04 - accuracy: 1.0000\n",
            "Epoch 20: val_accuracy did not improve from 0.86500\n",
            "175/175 [==============================] - 40s 227ms/step - loss: 3.1093e-04 - accuracy: 1.0000 - val_loss: 1.4176 - val_accuracy: 0.8644 - lr: 2.0000e-04\n",
            "Epoch 21/100\n",
            "175/175 [==============================] - ETA: 0s - loss: 2.6643e-04 - accuracy: 1.0000\n",
            "Epoch 21: val_accuracy did not improve from 0.86500\n",
            "175/175 [==============================] - 41s 235ms/step - loss: 2.6643e-04 - accuracy: 1.0000 - val_loss: 1.4211 - val_accuracy: 0.8637 - lr: 2.0000e-04\n",
            "Epoch 22/100\n",
            "175/175 [==============================] - ETA: 0s - loss: 2.3029e-04 - accuracy: 1.0000\n",
            "Epoch 22: val_accuracy did not improve from 0.86500\n",
            "175/175 [==============================] - 41s 235ms/step - loss: 2.3029e-04 - accuracy: 1.0000 - val_loss: 1.4270 - val_accuracy: 0.8644 - lr: 2.0000e-04\n",
            "Epoch 23/100\n",
            "175/175 [==============================] - ETA: 0s - loss: 2.0643e-04 - accuracy: 1.0000\n",
            "Epoch 23: val_accuracy did not improve from 0.86500\n",
            "175/175 [==============================] - 40s 227ms/step - loss: 2.0643e-04 - accuracy: 1.0000 - val_loss: 1.4321 - val_accuracy: 0.8644 - lr: 2.0000e-04\n",
            "Epoch 24/100\n",
            "175/175 [==============================] - ETA: 0s - loss: 1.8352e-04 - accuracy: 1.0000\n",
            "Epoch 24: val_accuracy did not improve from 0.86500\n",
            "175/175 [==============================] - 41s 236ms/step - loss: 1.8352e-04 - accuracy: 1.0000 - val_loss: 1.4373 - val_accuracy: 0.8644 - lr: 2.0000e-04\n",
            "Epoch 25/100\n",
            "175/175 [==============================] - ETA: 0s - loss: 1.6491e-04 - accuracy: 1.0000\n",
            "Epoch 25: val_accuracy did not improve from 0.86500\n",
            "175/175 [==============================] - 41s 235ms/step - loss: 1.6491e-04 - accuracy: 1.0000 - val_loss: 1.4403 - val_accuracy: 0.8650 - lr: 2.0000e-04\n",
            "Epoch 26/100\n",
            "175/175 [==============================] - ETA: 0s - loss: 1.5007e-04 - accuracy: 1.0000\n",
            "Epoch 26: val_accuracy did not improve from 0.86500\n",
            "175/175 [==============================] - 41s 235ms/step - loss: 1.5007e-04 - accuracy: 1.0000 - val_loss: 1.4413 - val_accuracy: 0.8644 - lr: 4.0000e-05\n",
            "Epoch 27/100\n",
            "175/175 [==============================] - ETA: 0s - loss: 1.4713e-04 - accuracy: 1.0000\n",
            "Epoch 27: val_accuracy did not improve from 0.86500\n",
            "175/175 [==============================] - 41s 235ms/step - loss: 1.4713e-04 - accuracy: 1.0000 - val_loss: 1.4428 - val_accuracy: 0.8644 - lr: 4.0000e-05\n",
            "Epoch 28/100\n",
            "175/175 [==============================] - ETA: 0s - loss: 1.4408e-04 - accuracy: 1.0000\n",
            "Epoch 28: val_accuracy did not improve from 0.86500\n",
            "175/175 [==============================] - 41s 235ms/step - loss: 1.4408e-04 - accuracy: 1.0000 - val_loss: 1.4437 - val_accuracy: 0.8644 - lr: 4.0000e-05\n",
            "Epoch 29/100\n",
            "175/175 [==============================] - ETA: 0s - loss: 1.4084e-04 - accuracy: 1.0000\n",
            "Epoch 29: val_accuracy did not improve from 0.86500\n",
            "175/175 [==============================] - 40s 228ms/step - loss: 1.4084e-04 - accuracy: 1.0000 - val_loss: 1.4449 - val_accuracy: 0.8644 - lr: 4.0000e-05\n",
            "Epoch 30/100\n",
            "175/175 [==============================] - ETA: 0s - loss: 1.3782e-04 - accuracy: 1.0000\n",
            "Epoch 30: val_accuracy did not improve from 0.86500\n",
            "175/175 [==============================] - 41s 236ms/step - loss: 1.3782e-04 - accuracy: 1.0000 - val_loss: 1.4463 - val_accuracy: 0.8644 - lr: 4.0000e-05\n",
            "Epoch 31/100\n",
            "175/175 [==============================] - ETA: 0s - loss: 1.3426e-04 - accuracy: 1.0000\n",
            "Epoch 31: val_accuracy did not improve from 0.86500\n",
            "175/175 [==============================] - 41s 236ms/step - loss: 1.3426e-04 - accuracy: 1.0000 - val_loss: 1.4476 - val_accuracy: 0.8644 - lr: 4.0000e-05\n",
            "Epoch 32/100\n",
            "175/175 [==============================] - ETA: 0s - loss: 1.3087e-04 - accuracy: 1.0000\n",
            "Epoch 32: val_accuracy did not improve from 0.86500\n",
            "175/175 [==============================] - 41s 235ms/step - loss: 1.3087e-04 - accuracy: 1.0000 - val_loss: 1.4491 - val_accuracy: 0.8644 - lr: 4.0000e-05\n",
            "Epoch 33/100\n",
            "175/175 [==============================] - ETA: 0s - loss: 1.2716e-04 - accuracy: 1.0000\n",
            "Epoch 33: val_accuracy did not improve from 0.86500\n",
            "175/175 [==============================] - 41s 236ms/step - loss: 1.2716e-04 - accuracy: 1.0000 - val_loss: 1.4507 - val_accuracy: 0.8644 - lr: 4.0000e-05\n",
            "Epoch 33: early stopping\n"
          ]
        }
      ],
      "source": [
        "m4=mobile_model.fit(train_data,steps_per_epoch=len(train_data),epochs=100,verbose=1,validation_data=(val_data),validation_steps=len(val_data),callbacks=cb4)"
      ]
    },
    {
      "attachments": {},
      "cell_type": "markdown",
      "metadata": {
        "id": "mbX_qc4VKRCw"
      },
      "source": [
        "###VGG19 ModelAcuracy Graph"
      ]
    },
    {
      "cell_type": "code",
      "execution_count": null,
      "metadata": {
        "colab": {
          "base_uri": "https://localhost:8080/",
          "height": 472
        },
        "id": "Hpqw3luxJkCI",
        "outputId": "3e224fd3-349b-4769-97ab-a22f87cdd3c6"
      },
      "outputs": [
        {
          "data": {
            "image/png": "[encoded data removed]",
            "text/plain": [
              "<Figure size 640x480 with 1 Axes>"
            ]
          },
          "metadata": {},
          "output_type": "display_data"
        }
      ],
      "source": [
        "plt.plot(m4.history['accuracy'])\n",
        "plt.plot(m4.history['val_accuracy'])\n",
        "plt.ylabel('accuracy')\n",
        "plt.xlabel('epoch')\n",
        "plt.legend(['Train', 'Validation'], loc='upper left')\n",
        "plt.title(\"VGG19 Model Train_Accuracy VS Val_Accuracy\")\n",
        "plt.show()"
      ]
    },
    {
      "attachments": {},
      "cell_type": "markdown",
      "metadata": {
        "id": "XIkyaHQ0KV5_"
      },
      "source": [
        "###VGG19 Model Loss Graph"
      ]
    },
    {
      "cell_type": "code",
      "execution_count": null,
      "metadata": {
        "colab": {
          "base_uri": "https://localhost:8080/",
          "height": 472
        },
        "id": "u86PXF6sKhg4",
        "outputId": "727f83fc-055e-4f80-91e9-c60d0ba105c0"
      },
      "outputs": [
        {
          "data": {
            "image/png": "[encoded data removed]",
            "text/plain": [
              "<Figure size 640x480 with 1 Axes>"
            ]
          },
          "metadata": {},
          "output_type": "display_data"
        }
      ],
      "source": [
        "plt.plot(m4.history['loss'])\n",
        "plt.plot(m4.history['val_loss'])\n",
        "plt.ylabel('loss')\n",
        "plt.xlabel('epoch')\n",
        "plt.legend(['Train', 'Validation'], loc='upper left')\n",
        "\n",
        "plt.title(\"VGG19 Model Train_Loss VS Val_Loss\")\n",
        "plt.show()"
      ]
    },
    {
      "attachments": {},
      "cell_type": "markdown",
      "metadata": {
        "id": "mgIHUlnZK2kw"
      },
      "source": [
        "##VGG19 Model Accuracy"
      ]
    },
    {
      "cell_type": "code",
      "execution_count": null,
      "metadata": {
        "id": "HC5qomMLLSWv"
      },
      "outputs": [],
      "source": [
        "model4=load_model('/content/Best_model4.h5')"
      ]
    },
    {
      "cell_type": "code",
      "execution_count": null,
      "metadata": {
        "colab": {
          "base_uri": "https://localhost:8080/"
        },
        "id": "4VHE8530mAIk",
        "outputId": "2ada2fcb-3a7e-4d48-cd36-ee55c6b22de2"
      },
      "outputs": [
        {
          "name": "stdout",
          "output_type": "stream",
          "text": [
            "25/25 [==============================] - 5s 167ms/step - loss: 0.9322 - accuracy: 0.8662\n",
            "The accuracy of VGG19 model is 86.62499785423279 % and loss 0.9321735501289368\n"
          ]
        }
      ],
      "source": [
        "mobile_loss,mobile_acc=model4.evaluate(x_test,y_test)\n",
        "print(f\"The accuracy of VGG19 model is {mobile_acc*100} % and loss {mobile_loss}\")"
      ]
    },
    {
      "attachments": {},
      "cell_type": "markdown",
      "metadata": {
        "id": "049TXYupcjNM"
      },
      "source": [
        "##VGG19 Model Percision, Recall, F1 Score"
      ]
    },
    {
      "cell_type": "code",
      "execution_count": null,
      "metadata": {
        "colab": {
          "base_uri": "https://localhost:8080/"
        },
        "id": "EINfD_LwuSh1",
        "outputId": "7434b56e-d956-46a1-a46a-e64e0e1317ba"
      },
      "outputs": [
        {
          "name": "stdout",
          "output_type": "stream",
          "text": [
            "25/25 [==============================] - 4s 169ms/step\n"
          ]
        }
      ],
      "source": [
        "y_pred = model4.predict(x_test)\n",
        "y_pred_classes = np.argmax(y_pred, axis=1)\n",
        "y_true_classes = np.argmax(y_test, axis=1)\n",
        "\n",
        "# Calculating the confusion matrix\n",
        "confusion_mtx = confusion_matrix(y_true_classes, y_pred_classes)"
      ]
    },
    {
      "cell_type": "code",
      "execution_count": null,
      "metadata": {
        "colab": {
          "base_uri": "https://localhost:8080/"
        },
        "id": "Ld-0ayAXuW_l",
        "outputId": "a98cf522-e857-4c7a-942e-43db6840ecf7"
      },
      "outputs": [
        {
          "name": "stdout",
          "output_type": "stream",
          "text": [
            "Classification Report:\n",
            "              precision    recall  f1-score   support\n",
            "\n",
            "           0       0.98      0.98      0.98       200\n",
            "           1       0.95      0.95      0.95       200\n",
            "           2       0.75      0.78      0.77       200\n",
            "           3       0.77      0.75      0.76       200\n",
            "\n",
            "    accuracy                           0.87       800\n",
            "   macro avg       0.87      0.87      0.87       800\n",
            "weighted avg       0.87      0.87      0.87       800\n",
            "\n"
          ]
        }
      ],
      "source": [
        "report = classification_report(y_true_classes, y_pred_classes)\n",
        "print(\"Classification Report:\")\n",
        "print(report)"
      ]
    },
    {
      "cell_type": "code",
      "execution_count": null,
      "metadata": {
        "colab": {
          "base_uri": "https://localhost:8080/",
          "height": 543
        },
        "id": "iX8uAzJxuZDG",
        "outputId": "07d8c944-fa19-465e-9553-6d89b095a886"
      },
      "outputs": [
        {
          "name": "stdout",
          "output_type": "stream",
          "text": [
            "Normalized confusion matrix\n"
          ]
        },
        {
          "data": {
            "image/png": "[encoded data removed]",
            "text/plain": [
              "<Figure size 500x500 with 1 Axes>"
            ]
          },
          "metadata": {},
          "output_type": "display_data"
        }
      ],
      "source": [
        "import itertools\n",
        "from sklearn.metrics import classification_report,confusion_matrix, accuracy_score\n",
        "def plot_confusion_matrix(cm,classes,normalize=False,title='Confusion matrix', cmap=plt.cm.Blues):\n",
        "  if normalize:\n",
        "    cm=cm.astype('float')/cm.sum(axis=1)[:,np.newaxis]\n",
        "    print(\"Normalized confusion matrix\")\n",
        "  else:\n",
        "    print(\"Confusion matrix without normalization\")\n",
        "  \n",
        "  plt.imshow(cm,interpolation='nearest',cmap=cmap)\n",
        "  plt.title(title,weight='bold')\n",
        "  tick_marks=np.arange(len(classes))\n",
        "  plt.xticks(tick_marks,classes,rotation=90)\n",
        "  plt.yticks(tick_marks,classes)\n",
        "\n",
        "\n",
        "  fmt='.2f' if normalize else 'd'\n",
        "  thresh=cm.max()/2.\n",
        "  for i,j in itertools.product(range(cm.shape[0]),range(cm.shape[1])):\n",
        "    plt.text(j,i,format(cm[i,j],fmt),\n",
        "             horizontalalignment='center',weight='bold',\n",
        "             color='white' if cm[i,j]> thresh else 'black')\n",
        "  plt.tight_layout()\n",
        "  plt.ylabel(\"True label\", weight='bold')\n",
        "  plt.xlabel(\"Predicted label\",weight=\"bold\")\n",
        "\n",
        "#compute confusion matrix\n",
        "cnf_matrix=confusion_matrix(y_true_classes, y_pred_classes)\n",
        "np.set_printoptions(precision=2)\n",
        "\n",
        "#Plot non-normalized confusion matrix\n",
        "plt.figure(figsize=(5,5))\n",
        "plot_confusion_matrix(cnf_matrix, classes=['COVID-19','Normal','Pneumonia-viral','Pneumonia-Bacterial'],normalize=True,title=\"Normalized confusion matrix\")\n",
        "plt.show()"
      ]
    },
    {
      "cell_type": "code",
      "execution_count": null,
      "metadata": {
        "colab": {
          "base_uri": "https://localhost:8080/",
          "height": 543
        },
        "id": "yheQoakU3P5N",
        "outputId": "139072b3-2dce-4cd8-c595-c27a80f2da9c"
      },
      "outputs": [
        {
          "name": "stdout",
          "output_type": "stream",
          "text": [
            "Normalized confusion matrix\n"
          ]
        },
        {
          "data": {
            "image/png": "[encoded data removed]",
            "text/plain": [
              "<Figure size 500x500 with 1 Axes>"
            ]
          },
          "metadata": {},
          "output_type": "display_data"
        }
      ],
      "source": [
        "import itertools\n",
        "from sklearn.metrics import classification_report,confusion_matrix, accuracy_score\n",
        "def plot_confusion_matrix(cm,classes,normalize=False,title='Confusion matrix', cmap=plt.cm.Blues):\n",
        "  if normalize:\n",
        "    cm=cm.astype('float')/cm.sum(axis=1)[:,np.newaxis]\n",
        "    print(\"Normalized confusion matrix\")\n",
        "  else:\n",
        "    print(\"Confusion matrix without normalization\")\n",
        "  \n",
        "  plt.imshow(cm,interpolation='nearest',cmap=cmap)\n",
        "  plt.title(title,weight='bold')\n",
        "  tick_marks=np.arange(len(classes))\n",
        "  plt.xticks(tick_marks,classes,rotation=90)\n",
        "  plt.yticks(tick_marks,classes)\n",
        "\n",
        "\n",
        "  fmt='.2f' if normalize else 'd'\n",
        "  thresh=cm.max()/2.\n",
        "  for i,j in itertools.product(range(cm.shape[0]),range(cm.shape[1])):\n",
        "    plt.text(j,i,format(cm[i,j],fmt),\n",
        "             horizontalalignment='center',weight='bold',\n",
        "             color='white' if cm[i,j]> thresh else 'black')\n",
        "  plt.tight_layout()\n",
        "  plt.ylabel(\"True label\", weight='bold')\n",
        "  plt.xlabel(\"Predicted label\",weight=\"bold\")\n",
        "\n",
        "#compute confusion matrix\n",
        "cnf_matrix=confusion_matrix(y_true_classes, y_pred_classes)\n",
        "np.set_printoptions(precision=2)\n",
        "\n",
        "#Plot non-normalized confusion matrix\n",
        "plt.figure(figsize=(5,5))\n",
        "plot_confusion_matrix(cnf_matrix, classes=['COVID-19','Normal','Pneumonia-viral','Pneumonia-Bacterial'],normalize=True,title=\"Normalized confusion of VGG19 matrix\")\n",
        "plt.show()"
      ]
    }
  ],
  "metadata": {
    "accelerator": "GPU",
    "colab": {
      "gpuType": "T4",
      "provenance": []
    },
    "gpuClass": "standard",
    "kernelspec": {
      "display_name": "Python 3",
      "name": "python3"
    },
    "language_info": {
      "name": "python"
    }
  },
  "nbformat": 4,
  "nbformat_minor": 0
}
